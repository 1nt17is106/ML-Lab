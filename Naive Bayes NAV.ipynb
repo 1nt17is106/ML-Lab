{
 "cells": [
  {
   "cell_type": "code",
   "execution_count": 12,
   "id": "f10efd58",
   "metadata": {},
   "outputs": [],
   "source": [
    "from sklearn.preprocessing import LabelEncoder\n",
    "from sklearn.naive_bayes import MultinomialNB\n",
    "import pandas as pd\n",
    "import numpy as np\n",
    "from sklearn.model_selection import train_test_split\n",
    "from sklearn.metrics import accuracy_score,classification_report"
   ]
  },
  {
   "cell_type": "code",
   "execution_count": 9,
   "id": "9b29e1c0",
   "metadata": {},
   "outputs": [],
   "source": [
    "data=pd.read_csv('covid NAIVEBAYES.csv')\n",
    "le=LabelEncoder()\n",
    "pc= le.fit_transform(data['pc'].values)\n",
    "wbc= le.fit_transform(data['wbc'].values)\n",
    "mc= le.fit_transform(data['mc'].values)\n",
    "ast= le.fit_transform(data['ast'].values)\n",
    "bc= le.fit_transform(data['bc'].values)\n",
    "ldh= le.fit_transform(data['ldh'].values)\n",
    "\n",
    "y=le.fit_transform(data['diagnosis'].values)\n",
    "X=np.array(list(zip(pc,wbc,mc,ast,bc,ldh)))"
   ]
  },
  {
   "cell_type": "code",
   "execution_count": 15,
   "id": "5d3cabbc",
   "metadata": {},
   "outputs": [
    {
     "name": "stdout",
     "output_type": "stream",
     "text": [
      "0.8\n"
     ]
    }
   ],
   "source": [
    "xtrain,xtest,ytrain,ytest=train_test_split(X,y,test_size=0.2)\n",
    "nb=MultinomialNB()\n",
    "nb.fit(xtrain,ytrain)\n",
    "y_pred=nb.predict(xtest)\n",
    "print(accuracy_score(ytest,y_pred))"
   ]
  },
  {
   "cell_type": "code",
   "execution_count": null,
   "id": "c055e9aa",
   "metadata": {},
   "outputs": [],
   "source": []
  }
 ],
 "metadata": {
  "kernelspec": {
   "display_name": "Python 3",
   "language": "python",
   "name": "python3"
  },
  "language_info": {
   "codemirror_mode": {
    "name": "ipython",
    "version": 3
   },
   "file_extension": ".py",
   "mimetype": "text/x-python",
   "name": "python",
   "nbconvert_exporter": "python",
   "pygments_lexer": "ipython3",
   "version": "3.8.8"
  }
 },
 "nbformat": 4,
 "nbformat_minor": 5
}
