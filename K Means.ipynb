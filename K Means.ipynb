{
 "cells": [
  {
   "cell_type": "code",
   "execution_count": 1,
   "metadata": {},
   "outputs": [],
   "source": [
    "import random\n",
    "import math"
   ]
  },
  {
   "cell_type": "code",
   "execution_count": 2,
   "metadata": {},
   "outputs": [],
   "source": [
    "def eucldist(p0,p1):\n",
    "    dist = 0.0\n",
    "    for i in range(0,len(p0)):\n",
    "        dist += (p0[i] - p1[i])**2\n",
    "    return math.sqrt(dist)"
   ]
  },
  {
   "cell_type": "code",
   "execution_count": 3,
   "metadata": {},
   "outputs": [],
   "source": [
    "#K-Means Algorithm\n",
    "def kmeans(k,datapoints):\n",
    "\n",
    "    # d - Dimensionality of Datapoints\n",
    "    d = len(datapoints[0]) \n",
    "    \n",
    "    #Limit our iterations\n",
    "    Max_Iterations = 1000\n",
    "    i = 0\n",
    "    \n",
    "    cluster = [0] * len(datapoints)\n",
    "    prev_cluster = [-1] * len(datapoints)\n",
    "    \n",
    "    #Randomly Choose Centers for the Clusters\n",
    "    cluster_centers = []\n",
    "    for i in range(0,k):\n",
    "        new_cluster = []\n",
    "        #for i in range(0,d):\n",
    "        #    new_cluster += [random.randint(0,10)]\n",
    "        cluster_centers += [random.choice(datapoints)]\n",
    "        \n",
    "        \n",
    "        #Sometimes The Random points are chosen poorly and so there ends up being empty clusters\n",
    "        #In this particular implementation we want to force K exact clusters.\n",
    "        #To take this feature off, simply take away \"force_recalculation\" from the while conditional.\n",
    "        force_recalculation = False\n",
    "    \n",
    "    while (cluster != prev_cluster) or (i > Max_Iterations) or (force_recalculation) :\n",
    "        \n",
    "        prev_cluster = list(cluster)\n",
    "        force_recalculation = False\n",
    "        i += 1\n",
    "    \n",
    "        #Update Point's Cluster Alligiance\n",
    "        for p in range(0,len(datapoints)):\n",
    "            min_dist = float(\"inf\")\n",
    "            \n",
    "            #Check min_distance against all centers\n",
    "            for c in range(0,len(cluster_centers)):\n",
    "                \n",
    "                dist = eucldist(datapoints[p],cluster_centers[c])\n",
    "                \n",
    "                if (dist < min_dist):\n",
    "                    min_dist = dist  \n",
    "                    cluster[p] = c   # Reassign Point to new Cluster\n",
    "        \n",
    "        \n",
    "        #Update Cluster's Position\n",
    "        for k in range(0,len(cluster_centers)):\n",
    "            new_center = [0] * d\n",
    "            members = 0\n",
    "            for p in range(0,len(datapoints)):\n",
    "                if (cluster[p] == k): #If this point belongs to the cluster\n",
    "                    for j in range(0,d):\n",
    "                        new_center[j] += datapoints[p][j]\n",
    "                    members += 1\n",
    "            \n",
    "            for j in range(0,d):\n",
    "                if members != 0:\n",
    "                    new_center[j] = new_center[j] / float(members) \n",
    "                \n",
    "                #This means that our initial random assignment was poorly chosen\n",
    "                #Change it to a new datapoint to actually force k clusters\n",
    "                else: \n",
    "                    new_center = random.choice(datapoints)\n",
    "                    force_recalculation = True\n",
    "                    print (\"Forced Recalculation...\")\n",
    "                    \n",
    "            \n",
    "            cluster_centers[k] = new_center\n",
    "    \n",
    "        \n",
    "    print (\"======== Results ========\")\n",
    "    print (\"Clusters\", cluster_centers)\n",
    "    print (\"Iterations\",i)\n",
    "    print (\"Assignments\", cluster)\n"
   ]
  },
  {
   "cell_type": "code",
   "execution_count": 4,
   "metadata": {},
   "outputs": [
    {
     "name": "stdout",
     "output_type": "stream",
     "text": [
      "======== Results ========\n",
      "Clusters [[5.95, 3.1], [4.966666666666668, 3.316666666666667], [6.45, 2.95]]\n",
      "Iterations 5\n",
      "Assignments [0, 1, 2, 1, 1, 1, 1, 2, 1, 0]\n"
     ]
    }
   ],
   "source": [
    "if __name__ == \"__main__\":\n",
    "    #2D - Datapoints List of n d-dimensional vectors. (For this example I already set up 2D Tuples)\n",
    "    #Feel free to change to whatever size tuples you want...\n",
    "    datapoints = [(5.9, 3.2), (4.6, 2.9), (6.2, 2.8), (4.7, 3.2), (5.5, 4.2), (5, 3), (4.9, 3.1), (6.7, 3.1), (5.1, 3.5), (6, 3)]\n",
    "\n",
    "    k = 3 # K - Number of Clusters\n",
    "      \n",
    "    kmeans(k,datapoints) "
   ]
  },
  {
   "cell_type": "code",
   "execution_count": 5,
   "metadata": {},
   "outputs": [],
   "source": [
    "import numpy as np"
   ]
  },
  {
   "cell_type": "code",
   "execution_count": 6,
   "metadata": {},
   "outputs": [],
   "source": [
    "def compute_euclidean_distance(point, centroid):\n",
    "    return np.sqrt(np.sum((point - centroid)**2))"
   ]
  },
  {
   "cell_type": "code",
   "execution_count": 7,
   "metadata": {},
   "outputs": [],
   "source": [
    "def assign_label_cluster(distance, data_point, centroids):\n",
    "    index_of_minimum = min(distance, key=distance.get)\n",
    "    return [index_of_minimum, data_point, centroids[index_of_minimum]]"
   ]
  },
  {
   "cell_type": "code",
   "execution_count": 8,
   "metadata": {},
   "outputs": [],
   "source": [
    "def compute_new_centroids(cluster_label, centroids):\n",
    "    return np.array(cluster_label + centroids)/2"
   ]
  },
  {
   "cell_type": "code",
   "execution_count": 9,
   "metadata": {},
   "outputs": [],
   "source": [
    "def iterate_k_means(data_points, centroids, total_iteration):\n",
    "    label = []\n",
    "    cluster_label = []\n",
    "    total_points = len(data_points)\n",
    "    k = len(centroids)\n",
    "    \n",
    "    for iteration in range(0, total_iteration):\n",
    "        for index_point in range(0, total_points):\n",
    "            distance = {}\n",
    "            for index_centroid in range(0, k):\n",
    "                distance[index_centroid] = compute_euclidean_distance(data_points[index_point], centroids[index_centroid])\n",
    "            label = assign_label_cluster(distance, data_points[index_point], centroids)\n",
    "            centroids[label[0]] = compute_new_centroids(label[1], centroids[label[0]])\n",
    "\n",
    "            if iteration == (total_iteration - 1):\n",
    "                cluster_label.append(label)\n",
    "\n",
    "    return [cluster_label, centroids]"
   ]
  },
  {
   "cell_type": "code",
   "execution_count": 10,
   "metadata": {},
   "outputs": [],
   "source": [
    "def print_label_data(result):\n",
    "    print(\"Result of k-Means Clustering: \\n\")\n",
    "    for data in result[0]:\n",
    "        print(\"data point: {}\".format(data[1]))\n",
    "        print(\"cluster number: {} \\n\".format(data[0]))\n",
    "    print(\"Last centroids position: \\n {}\".format(result[1]))"
   ]
  },
  {
   "cell_type": "code",
   "execution_count": 11,
   "metadata": {},
   "outputs": [],
   "source": [
    "def create_centroids():\n",
    "    centroids = []\n",
    "    centroids.append([6.2, 3.2])\n",
    "    centroids.append([6.6, 3.7])\n",
    "    centroids.append([6.5, 3.0])\n",
    "    return np.array(centroids)"
   ]
  },
  {
   "cell_type": "code",
   "execution_count": 12,
   "metadata": {},
   "outputs": [
    {
     "name": "stdout",
     "output_type": "stream",
     "text": [
      "Result of k-Means Clustering: \n",
      "\n",
      "data point: [5.9 6.2]\n",
      "cluster number: 1 \n",
      "\n",
      "data point: [4.6 2.9]\n",
      "cluster number: 0 \n",
      "\n",
      "data point: [6.2 2.8]\n",
      "cluster number: 2 \n",
      "\n",
      "data point: [4.7 3.2]\n",
      "cluster number: 0 \n",
      "\n",
      "data point: [5. 3.]\n",
      "cluster number: 0 \n",
      "\n",
      "data point: [5.5 4.2]\n",
      "cluster number: 1 \n",
      "\n",
      "data point: [4.9 3. ]\n",
      "cluster number: 0 \n",
      "\n",
      "data point: [6.7 3.1]\n",
      "cluster number: 2 \n",
      "\n",
      "data point: [5.1 3.1]\n",
      "cluster number: 0 \n",
      "\n",
      "data point: [6. 3.]\n",
      "cluster number: 2 \n",
      "\n",
      "Last centroids position: \n",
      " [[5.03125  3.065625]\n",
      " [5.875    4.575   ]\n",
      " [6.2625   3.      ]]\n",
      "\n"
     ]
    }
   ],
   "source": [
    "if __name__ == \"__main__\":\n",
    "    filename = \"data.csv\"\n",
    "    data_points = np.genfromtxt(filename, delimiter=\",\")\n",
    "    centroids = create_centroids()\n",
    "    total_iteration = 1\n",
    "    \n",
    "    [cluster_label, new_centroids] = iterate_k_means(data_points, centroids, total_iteration)\n",
    "    print_label_data([cluster_label, new_centroids])\n",
    "    print()"
   ]
  },
  {
   "cell_type": "code",
   "execution_count": 13,
   "metadata": {},
   "outputs": [],
   "source": [
    "import matplotlib.pyplot as plt"
   ]
  },
  {
   "cell_type": "code",
   "execution_count": 14,
   "metadata": {},
   "outputs": [
    {
     "data": {
      "text/plain": [
       "array([[5.9, 6.2],\n",
       "       [4.6, 2.9],\n",
       "       [6.2, 2.8],\n",
       "       [4.7, 3.2],\n",
       "       [5. , 3. ],\n",
       "       [5.5, 4.2],\n",
       "       [4.9, 3. ],\n",
       "       [6.7, 3.1],\n",
       "       [5.1, 3.1],\n",
       "       [6. , 3. ]])"
      ]
     },
     "execution_count": 14,
     "metadata": {},
     "output_type": "execute_result"
    }
   ],
   "source": [
    "data_points"
   ]
  },
  {
   "cell_type": "code",
   "execution_count": 15,
   "metadata": {},
   "outputs": [
    {
     "data": {
      "text/plain": [
       "(array([[5.9, 6.2],\n",
       "        [4.6, 2.9],\n",
       "        [6.2, 2.8],\n",
       "        [4.7, 3.2],\n",
       "        [5. , 3. ],\n",
       "        [5.5, 4.2],\n",
       "        [4.9, 3. ],\n",
       "        [6.7, 3.1],\n",
       "        [5.1, 3.1],\n",
       "        [6. , 3. ]]),\n",
       " array([[5.03125 , 3.065625],\n",
       "        [5.875   , 4.575   ],\n",
       "        [6.2625  , 3.      ]]))"
      ]
     },
     "execution_count": 15,
     "metadata": {},
     "output_type": "execute_result"
    }
   ],
   "source": [
    "data_points, centroids"
   ]
  },
  {
   "cell_type": "code",
   "execution_count": 16,
   "metadata": {},
   "outputs": [
    {
     "data": {
      "text/plain": [
       "[[1, array([5.9, 6.2]), array([5.875, 4.575])],\n",
       " [0, array([4.6, 2.9]), array([5.03125 , 3.065625])],\n",
       " [2, array([6.2, 2.8]), array([6.2625, 3.    ])],\n",
       " [0, array([4.7, 3.2]), array([5.03125 , 3.065625])],\n",
       " [0, array([5., 3.]), array([5.03125 , 3.065625])],\n",
       " [1, array([5.5, 4.2]), array([5.875, 4.575])],\n",
       " [0, array([4.9, 3. ]), array([5.03125 , 3.065625])],\n",
       " [2, array([6.7, 3.1]), array([6.2625, 3.    ])],\n",
       " [0, array([5.1, 3.1]), array([5.03125 , 3.065625])],\n",
       " [2, array([6., 3.]), array([6.2625, 3.    ])]]"
      ]
     },
     "execution_count": 16,
     "metadata": {},
     "output_type": "execute_result"
    }
   ],
   "source": [
    "cluster_label"
   ]
  },
  {
   "cell_type": "code",
   "execution_count": 17,
   "metadata": {},
   "outputs": [],
   "source": [
    "c1x=[]\n",
    "c2x=[]\n",
    "c3x=[]\n",
    "c1y=[]\n",
    "c2y=[]\n",
    "c3y=[]\n",
    "for data in cluster_label:\n",
    "    if data[0] == 0:\n",
    "        c1x.append(data[1][0])\n",
    "        c1y.append(data[1][1])\n",
    "    if data[0] == 1:\n",
    "        c2x.append(data[1][0])\n",
    "        c2y.append(data[1][1])\n",
    "    if data[0] == 2:\n",
    "        c3x.append(data[1][0])\n",
    "        c3y.append(data[1][1])\n",
    "        \n"
   ]
  },
  {
   "cell_type": "code",
   "execution_count": 18,
   "metadata": {},
   "outputs": [
    {
     "data": {
      "text/plain": [
       "['Solarize_Light2',\n",
       " '_classic_test_patch',\n",
       " 'bmh',\n",
       " 'classic',\n",
       " 'dark_background',\n",
       " 'fast',\n",
       " 'fivethirtyeight',\n",
       " 'ggplot',\n",
       " 'grayscale',\n",
       " 'seaborn',\n",
       " 'seaborn-bright',\n",
       " 'seaborn-colorblind',\n",
       " 'seaborn-dark',\n",
       " 'seaborn-dark-palette',\n",
       " 'seaborn-darkgrid',\n",
       " 'seaborn-deep',\n",
       " 'seaborn-muted',\n",
       " 'seaborn-notebook',\n",
       " 'seaborn-paper',\n",
       " 'seaborn-pastel',\n",
       " 'seaborn-poster',\n",
       " 'seaborn-talk',\n",
       " 'seaborn-ticks',\n",
       " 'seaborn-white',\n",
       " 'seaborn-whitegrid',\n",
       " 'tableau-colorblind10']"
      ]
     },
     "execution_count": 18,
     "metadata": {},
     "output_type": "execute_result"
    }
   ],
   "source": [
    "plt.style.available"
   ]
  },
  {
   "cell_type": "code",
   "execution_count": 19,
   "metadata": {},
   "outputs": [
    {
     "data": {
      "text/plain": [
       "<matplotlib.collections.PathCollection at 0x24f23e46190>"
      ]
     },
     "execution_count": 19,
     "metadata": {},
     "output_type": "execute_result"
    },
    {
     "data": {
      "image/png": "[encoded data removed]",
      "text/plain": [
       "<Figure size 432x288 with 1 Axes>"
      ]
     },
     "metadata": {},
     "output_type": "display_data"
    }
   ],
   "source": [
    "plt.style.use(\"fivethirtyeight\")\n",
    "\n",
    "plt.scatter(c1x, c1y)\n",
    "plt.scatter(c2x, c2y)\n",
    "plt.scatter(c3x, c3y)\n",
    "\n",
    "plt.scatter(centroids[0][0], centroids[0][1], linewidth=3, marker='H')\n",
    "plt.scatter(centroids[1][0], centroids[1][1], linewidth=3, marker='H')\n",
    "plt.scatter(centroids[2][0], centroids[2][1], linewidth=3, marker='H')"
   ]
  }
 ],
 "metadata": {
  "kernelspec": {
   "display_name": "Python 3",
   "language": "python",
   "name": "python3"
  },
  "language_info": {
   "codemirror_mode": {
    "name": "ipython",
    "version": 3
   },
   "file_extension": ".py",
   "mimetype": "text/x-python",
   "name": "python",
   "nbconvert_exporter": "python",
   "pygments_lexer": "ipython3",
   "version": "3.8.8"
  }
 },
 "nbformat": 4,
 "nbformat_minor": 4
}
