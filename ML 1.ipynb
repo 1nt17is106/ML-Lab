{
 "cells": [
  {
   "cell_type": "code",
   "execution_count": 20,
   "metadata": {},
   "outputs": [
    {
     "data": {
      "text/plain": [
       "7.642857142857143"
      ]
     },
     "execution_count": 20,
     "metadata": {},
     "output_type": "execute_result"
    }
   ],
   "source": [
    "lis = [1,2,3,4,5,6,7,8,9,10,11,12,14,15]\n",
    "s = sum(lis)\n",
    "mean = s/len(lis)\n",
    "mean "
   ]
  },
  {
   "cell_type": "code",
   "execution_count": 22,
   "metadata": {},
   "outputs": [
    {
     "name": "stdout",
     "output_type": "stream",
     "text": [
      "Median is: 3\n"
     ]
    }
   ],
   "source": [
    "n_num = [1, 2, 3, 4, 5]\n",
    "n = len(n_num)\n",
    "n_num.sort()\n",
    "  \n",
    "if n % 2 == 0:\n",
    "    median1 = n_num[n//2]\n",
    "    median2 = n_num[n//2 - 1]\n",
    "    median = (median1 + median2)/2\n",
    "else:\n",
    "    median = n_num[n//2]\n",
    "print(\"Median is: \" + str(median))"
   ]
  },
  {
   "cell_type": "code",
   "execution_count": 23,
   "metadata": {},
   "outputs": [],
   "source": []
  },
  {
   "cell_type": "code",
   "execution_count": 1,
   "metadata": {},
   "outputs": [
    {
     "name": "stdout",
     "output_type": "stream",
     "text": [
      "Add\n",
      "Subtract\n",
      "Multiply\n",
      "Divide\n",
      "First1\n",
      "Second2\n",
      "Oper3\n"
     ]
    }
   ],
   "source": [
    "#while(True):\n",
    "print('Add')\n",
    "print('Subtract')\n",
    "print('Multiply')\n",
    "print('Divide')\n",
    "a = int(input('First'))\n",
    "b = int(input('Second'))\n",
    "c= int(input('Oper'))\n",
    "  \n",
    "   "
   ]
  },
  {
   "cell_type": "code",
   "execution_count": 2,
   "metadata": {},
   "outputs": [
    {
     "name": "stdout",
     "output_type": "stream",
     "text": [
      "2\n"
     ]
    }
   ],
   "source": [
    "if(c==1):\n",
    "    print(a+b)\n",
    "if(c==2):\n",
    "    print(a-b)\n",
    "if(c==3):\n",
    "    print(a*b)\n",
    "if(c==4):\n",
    "    print(a/b)"
   ]
  },
  {
   "cell_type": "code",
   "execution_count": 15,
   "metadata": {},
   "outputs": [
    {
     "name": "stdout",
     "output_type": "stream",
     "text": [
      "5\n",
      "4\n",
      "3\n",
      "8\n",
      "[1, 3, 4, 5, 6]\n"
     ]
    }
   ],
   "source": [
    "lis = [1,2,3,4]\n",
    "new =lis.append(30)\n",
    "print(len(lis))\n",
    "lis.pop()\n",
    "print(len(lis))\n",
    "lis.remove(2)\n",
    "print(len(lis))\n",
    "print(sum(lis))\n",
    "li=[5,6]\n",
    "new = lis+li\n",
    "print(new)"
   ]
  },
  {
   "cell_type": "code",
   "execution_count": 17,
   "metadata": {},
   "outputs": [
    {
     "name": "stdout",
     "output_type": "stream",
     "text": [
      "5.5 5.5 5\n"
     ]
    }
   ],
   "source": [
    "import statistics as st\n",
    "a = st.mean(li)\n",
    "b=st.median(li)\n",
    "c=st.mode(li)\n",
    "print(a,b,c)"
   ]
  },
  {
   "cell_type": "code",
   "execution_count": null,
   "metadata": {},
   "outputs": [],
   "source": []
  }
 ],
 "metadata": {
  "kernelspec": {
   "display_name": "Python 3",
   "language": "python",
   "name": "python3"
  },
  "language_info": {
   "codemirror_mode": {
    "name": "ipython",
    "version": 3
   },
   "file_extension": ".py",
   "mimetype": "text/x-python",
   "name": "python",
   "nbconvert_exporter": "python",
   "pygments_lexer": "ipython3",
   "version": "3.8.5"
  }
 },
 "nbformat": 4,
 "nbformat_minor": 4
}
